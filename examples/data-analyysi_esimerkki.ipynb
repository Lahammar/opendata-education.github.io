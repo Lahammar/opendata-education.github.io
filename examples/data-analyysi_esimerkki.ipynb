{
 "cells": [
  {
   "cell_type": "markdown",
   "metadata": {},
   "source": [
    "# Datan lukeminen ja visualisoiminen Pythonilla\n",
    "\n",
    "Käydään läpi esimerkki datan lukemisesta sekä visualisoimisesta Pythonilla.\n",
    "Käytetään esimerkkidatana csv-tiedostoa, joka pitää sisällään vuoden 2020 kuukausien keskilämpötilat Helsinki-Vantaan lentokentältä mitattuna.\n",
    "Kaikki tässä notebookissa käytettävä data on peräisin Ilmatieteenlaitoksen avoimesta hakupalvelusta: https://www.ilmatieteenlaitos.fi/havaintojen-lataus. Ladattuja datatiedostoja on muokattu hieman, jotta ne soveltuvat paremmin tässä esimerkissä käytettäväksi.\n",
    "\n",
    "Voit joko vain ajaa esimerkkisolut läpi ja katsoa, mitä niissä oleva koodi tekee tai voit myös kokeilla itse muokata koodia esimerkkiä läpikäydessäsi. Koodisolujen ajaminen onnistuu joko painamalla \"Run\"-nappia sivun yläreunasta tai näppäinyhdistelmällä `CTRL+ENTER`."
   ]
  },
  {
   "cell_type": "markdown",
   "metadata": {},
   "source": [
    "### Muuttujat\n",
    "\n",
    "Muuttujat ovat tärkeitä ohjelmoinnin kannalta. Niiden avulla voimme tallentaa muistiin tietoa, joka on myöhemmin helposti saatavilla muuttujan avulla. Esimerkiksi voimme tallentaa jonkin luvun, vaikkapa luku 3, muuttujaan \"x\" kirjoittamalla\n",
    "\n",
    "`x = 3`\n",
    "\n",
    "Tämän jälkeen aina kun kirjoitamme koodissamme muuttujan \"x\", sillä viitataan lukuun 3.\n",
    "\n",
    "Kokeillaan (aja koodisolut):"
   ]
  },
  {
   "cell_type": "code",
   "execution_count": null,
   "metadata": {},
   "outputs": [],
   "source": [
    "# Tallennetaan luku 3 muuttujaan \"x\".\n",
    "\n",
    "x = 3"
   ]
  },
  {
   "cell_type": "markdown",
   "metadata": {},
   "source": [
    "Lukujen lisäksi muuttujiin voidaan tallentaa muutakin, esimerkiksi tekstiä tai DataFrameja (näistä lisää myöhemmin).\n",
    "\n",
    "Jos ajoit edellisen koodisolun, seuraava solu tulostaa sinulle nyt muuttujan \"x\" arvon."
   ]
  },
  {
   "cell_type": "code",
   "execution_count": null,
   "metadata": {},
   "outputs": [],
   "source": [
    "x"
   ]
  },
  {
   "cell_type": "markdown",
   "metadata": {},
   "source": [
    "### Datan lukeminen tiedostosta\n",
    "\n",
    "Datan lukeminen tiedostosta Pythonilla on helppoa. Meidän tulee kuitenkin ensin hakea `import`-komennolla käyttöömme kirjasto nimeltä [pandas](). Pythonissa kirjastot ovat kokoelmia valmista ja käyttökelpoista koodia, jotta kaikkea ei tarvitse itse tehdä. Pandas-kirjasto sisältää paljon käteviä funktioita, joiden avulla voidaan lukea ja analysoida dataa."
   ]
  },
  {
   "cell_type": "code",
   "execution_count": null,
   "metadata": {},
   "outputs": [],
   "source": [
    "# Tuodaan pandas-kirjasto import-komennolla\n",
    "import pandas as pd \n",
    "\n",
    "# Tästä lähtien pandas-kirjaston funktioihin pääsee käsiksi lyhennettä \"pd\" käyttämällä."
   ]
  },
  {
   "cell_type": "markdown",
   "metadata": {},
   "source": [
    "Luetaan seuraavaksi esimerkkidata pandas-kirjaston [pd.read_csv()]()-funktiolla. Funktiolle annetaan parametriksi (sulkeiden sisälle ja lainausmerkkeihin) luettavan tiedoston tiedostopolku tai osoite, jos tiedosto on netissä. Voimme tallentaa luetun datan, eli DataFramen, muuttujaan. Annetaan muuttujalle nimeksi vaikkapa \"data\"."
   ]
  },
  {
   "cell_type": "code",
   "execution_count": null,
   "metadata": {},
   "outputs": [],
   "source": [
    "# Luetaan datatiedosto nimeltä \"keskilampotila2020_Helsinki.csv\" ja tallennetaan se muuttujaan \"data\"\n",
    "\n",
    "data = pd.read_csv(\"keskilampotila2020_Helsinki.csv\")"
   ]
  },
  {
   "cell_type": "markdown",
   "metadata": {},
   "source": [
    "### Datan tutkiminen\n",
    "\n",
    "Voimme tarkastella dataa esimerkiksi [`head()`]()-funktion avulla. Funktio tulostaa näytölle datan viisi ensimmäistä riviä. Tulostettavien rivien määrää voi vaihtaa kirjoittamalla luvun sulkeiden sisään. Vastaavasti [`tail()`]()-funktiolla voisimme katsoa datan viisi viimeistä riviä."
   ]
  },
  {
   "cell_type": "code",
   "execution_count": null,
   "metadata": {},
   "outputs": [],
   "source": [
    "# Katsotaan datan viisi ensimmäistä riviä\n",
    "data.head()"
   ]
  },
  {
   "cell_type": "markdown",
   "metadata": {},
   "source": [
    "Joskus on myös hyvä tarkastella, mitä sarakkeita datassa on. Tämä onnistuu [`columns`]()-komennolla."
   ]
  },
  {
   "cell_type": "code",
   "execution_count": null,
   "metadata": {},
   "outputs": [],
   "source": [
    "# Katsotaan, mitä sarakkeita data sisältää.\n",
    "\n",
    "data.columns"
   ]
  },
  {
   "cell_type": "markdown",
   "metadata": {},
   "source": [
    "### Datan valitseminen\n",
    "\n",
    "Tyypillisesti olemme kiinnostuneita tietystä tai tietyistä sarakkeista datatiedostossa.\n",
    "Voisimme esimerkiksi haluta piirtää kuvaajan, jossa x-akselilla ovat kuukaudet ja y-akselilla kuukauden keskilämpötila. \n",
    "Tätä varten voisimme erottaa sarakkeet omiksi muuttujikseen.\n",
    "Se onnistuu seuraavasti:"
   ]
  },
  {
   "cell_type": "code",
   "execution_count": null,
   "metadata": {},
   "outputs": [],
   "source": [
    "# Valitaan datasta 'Keskilämpötila (°C)'-sarake ja tallennetaan se muuttujaan test2\n",
    "\n",
    "temp = data['Keskilämpötila (°C)']"
   ]
  },
  {
   "cell_type": "code",
   "execution_count": null,
   "metadata": {},
   "outputs": [],
   "source": [
    "# Katsotaan nyt \"temp\"-muuttujan ensimmäiset rivit\n",
    "\n",
    "temp.head()"
   ]
  },
  {
   "cell_type": "markdown",
   "metadata": {},
   "source": [
    "Vastaavasti tallennetaan kuukaudet muuttujaan \"month\""
   ]
  },
  {
   "cell_type": "code",
   "execution_count": null,
   "metadata": {},
   "outputs": [],
   "source": [
    "month = data['Kk']\n",
    "\n",
    "month.head()"
   ]
  },
  {
   "cell_type": "markdown",
   "metadata": {},
   "source": [
    "### Datan visualisoiminen\n",
    "\n",
    "Datan visualisoimiseksi tarvitsemme [matplotlib]()-kirjastoa. Tämä kirjasto sisältää paljon käteviä funktioita esimerkiksi juuri kuvaajien piirtämistä varten. Jos haluamme vain nopeasti piirtää datan, voimme käyttää pelkästään [`plt.plot(xdata, ydata)`]()-funktiota."
   ]
  },
  {
   "cell_type": "code",
   "execution_count": null,
   "metadata": {},
   "outputs": [],
   "source": [
    "# Tuodaan matplotlib.pyplot -kirjasto import-komennolla ja valitaan sen lyhenteeksi plt\n",
    "\n",
    "import matplotlib.pyplot as plt"
   ]
  },
  {
   "cell_type": "code",
   "execution_count": null,
   "metadata": {},
   "outputs": [],
   "source": [
    "# Piirretään lämpötilat kuukauden funktiona plt.plot-funktiolla\n",
    "\n",
    "plt.plot(month, temp)"
   ]
  },
  {
   "cell_type": "markdown",
   "metadata": {},
   "source": [
    "Yllä olevalla tavalla piirretty kuvaaja on kuitenkin vielä hieman epäselvä. Mitä akselit kuvaavat? Kuvaajaan kannattaa lisätä akselien kuvaukset sekä esimerkiksi otsikko. Tätä varten tarvitsemme muitakin funktioita matplotlib-kirjastosta:"
   ]
  },
  {
   "cell_type": "code",
   "execution_count": null,
   "metadata": {
    "scrolled": false
   },
   "outputs": [],
   "source": [
    "# Alustetaan kuva plt.figure()-komennolla, voimme muutta myös kuvaajan kokoa\n",
    "plt.figure(figsize=(12,8))\n",
    "\n",
    "# Asetetaan akseleiden nimet\n",
    "plt.xlabel('Kuukausi', fontsize=12)\n",
    "plt.ylabel('Lämpötila (°C)', fontsize=12)\n",
    "\n",
    "# Asetetaan kuvaajan otsikko\n",
    "plt.title('Kuukauden keskilämpötila Helsinki-Vantaan lentoasemalla 2020', fontsize=20)\n",
    "\n",
    "# Piirretään haluamamme data\n",
    "plt.plot(month, temp)\n",
    "\n",
    "# Näytetään kuva\n",
    "plt.show()"
   ]
  },
  {
   "cell_type": "markdown",
   "metadata": {},
   "source": [
    "### Laajempi esimerkki"
   ]
  },
  {
   "cell_type": "markdown",
   "metadata": {},
   "source": [
    "Piirretään vielä esimerkin vuoksi samaan kuvaajaan kolmen eri paikkakunnan (Helsingin, Tampereen ja Oulun) keskilämpötilat.\n",
    "Keskilämpötilat löytyvät seuraavista tiedostoista:\n",
    "- keskilampotila2020_Helsinki.csv\n",
    "- keskilampotila2020_Tampere.csv\n",
    "- keskilampotila2020_Oulu.csv"
   ]
  },
  {
   "cell_type": "code",
   "execution_count": null,
   "metadata": {},
   "outputs": [],
   "source": [
    "# Luetaan tiedostot pandas:n avulla.\n",
    "# Huom. import-komentoa ei enää tarvita, jos se on tehty jo edellä\n",
    "\n",
    "data_Helsinki = pd.read_csv('keskilampotila2020_Helsinki.csv')\n",
    "data_Tampere = pd.read_csv('keskilampotila2020_Tampere.csv')\n",
    "data_Oulu = pd.read_csv('keskilampotila2020_Oulu.csv')"
   ]
  },
  {
   "cell_type": "code",
   "execution_count": null,
   "metadata": {},
   "outputs": [],
   "source": [
    "# Kurkataan, miltä tiedostot näyttävät\n",
    "data_Helsinki.head()"
   ]
  },
  {
   "cell_type": "code",
   "execution_count": null,
   "metadata": {},
   "outputs": [],
   "source": [
    "data_Tampere.head()"
   ]
  },
  {
   "cell_type": "code",
   "execution_count": null,
   "metadata": {},
   "outputs": [],
   "source": [
    "data_Oulu.head()"
   ]
  },
  {
   "cell_type": "code",
   "execution_count": null,
   "metadata": {},
   "outputs": [],
   "source": [
    "# Tallennetaan lämpötilatiedot omiin muuttujiinsa\n",
    "\n",
    "temp_Helsinki = data_Helsinki['Keskilämpötila (°C)']\n",
    "temp_Tampere = data_Tampere['Keskilämpötila (°C)']\n",
    "temp_Oulu = data_Oulu['Keskilämpötila (°C)']\n",
    "\n",
    "# Kuukaudet ovat kaikissa samat, joten otetaan se vain yhdestä datasetistä\n",
    "\n",
    "month = data_Helsinki['Kk']"
   ]
  },
  {
   "cell_type": "markdown",
   "metadata": {},
   "source": [
    "Piirretään vielä kuvaaja. Huom. kaikki tässä esitellyt parametrit eivät suinkaan ole pakollisia, mutta ne on esitelty tässä, jotta niistä voi ottaa mallia ja halutessaan käyttää."
   ]
  },
  {
   "cell_type": "code",
   "execution_count": null,
   "metadata": {},
   "outputs": [],
   "source": [
    "# Piirretään kaikki samaan kuvaan\n",
    "\n",
    "plt.figure(figsize=(12,8))\n",
    "\n",
    "# Akselien selitteet sekä kuvaajan otsikko\n",
    "plt.xlabel('Kuukausi', fontsize=12)\n",
    "plt.ylabel('Lämpötila (°C)', fontsize=12)\n",
    "plt.title('Kuukauden keskilämpötila vuonna 2020', fontsize=20)\n",
    "\n",
    "# Datan piirtäminen, label on käyrän selite, linewidth säätää viivan paksuutta, vakioarvona on 1.\n",
    "plt.plot(month, temp_Helsinki, label='Helsinki', linewidth=2)\n",
    "plt.plot(month, temp_Tampere, label='Tampere', linewidth=2)\n",
    "plt.plot(month, temp_Oulu, label='Oulu', linewidth=2)\n",
    "\n",
    "# Näytetään käyrien selitteet\n",
    "plt.legend()\n",
    "\n",
    "# Määritellään kuukausien nimet, jotka asetetaan x-akselille numeroiden sijasta.\n",
    "month_labels = ['Tammikuu','Helmikuu','Maaliskuu','Huhtikuu','Toukokuu','Kesäkuu','Heinäkuu','Elokuu','Syyskuu','Lokakuu','Marraskuu','Joulukuu']\n",
    "\n",
    "# Määritetään akseleiden asteikot. Ensimmäinen parametri on pisteiden sijainti akselilla ja toinen on pisteen selite.\n",
    "# Selitettä ei välttämättä tarvitse antaa, jolloin pisteen arvo tulee akselille.\n",
    "plt.xticks(month, month_labels, rotation=45)\n",
    "plt.yticks(range(-4,20,2))\n",
    "\n",
    "# Näytetään ruudukko\n",
    "plt.grid()\n",
    "\n",
    "# Näytetään kuva\n",
    "plt.show()"
   ]
  }
 ],
 "metadata": {
  "kernelspec": {
   "display_name": "Python 3",
   "language": "python",
   "name": "python3"
  },
  "language_info": {
   "codemirror_mode": {
    "name": "ipython",
    "version": 3
   },
   "file_extension": ".py",
   "mimetype": "text/x-python",
   "name": "python",
   "nbconvert_exporter": "python",
   "pygments_lexer": "ipython3",
   "version": "3.8.5"
  }
 },
 "nbformat": 4,
 "nbformat_minor": 4
}
